{
  "nbformat": 4,
  "nbformat_minor": 0,
  "metadata": {
    "colab": {
      "provenance": [],
      "authorship_tag": "ABX9TyPmrFH/K4yJ6qYjz9e4HBfI",
      "include_colab_link": true
    },
    "kernelspec": {
      "name": "python3",
      "display_name": "Python 3"
    },
    "language_info": {
      "name": "python"
    }
  },
  "cells": [
    {
      "cell_type": "markdown",
      "metadata": {
        "id": "view-in-github",
        "colab_type": "text"
      },
      "source": [
        "<a href=\"https://colab.research.google.com/github/Saifullah785/Python_for_Data_Science/blob/main/Numpy_for_Data_Science/Class_03__numpy_Tricks_pynb.ipynb\" target=\"_parent\"><img src=\"https://colab.research.google.com/assets/colab-badge.svg\" alt=\"Open In Colab\"/></a>"
      ]
    },
    {
      "cell_type": "markdown",
      "source": [
        "#**np.sort**\n",
        "\n",
        "Return a sorted copy of an array.\n",
        "\n",
        "https://numpy.org/doc/stable/reference/generated/numpy.sort.html"
      ],
      "metadata": {
        "id": "l3wAfaLl2LJK"
      }
    },
    {
      "cell_type": "code",
      "execution_count": 68,
      "metadata": {
        "colab": {
          "base_uri": "https://localhost:8080/"
        },
        "id": "BTQHVEBJ1I_Q",
        "outputId": "c94c46a8-0944-40f1-ffe6-7d056f5f4259"
      },
      "outputs": [
        {
          "output_type": "execute_result",
          "data": {
            "text/plain": [
              "array([95, 18, 98, 97, 54, 98, 85, 14, 75, 90, 20, 47, 60, 27, 46])"
            ]
          },
          "metadata": {},
          "execution_count": 68
        }
      ],
      "source": [
        "# code\n",
        "import numpy as np\n",
        "\n",
        "a = np.random.randint(1,100,15)\n",
        "a"
      ]
    },
    {
      "cell_type": "code",
      "source": [
        "b = np.random.randint(1,100,24).reshape(6,4)\n",
        "b"
      ],
      "metadata": {
        "colab": {
          "base_uri": "https://localhost:8080/"
        },
        "id": "ipuf5NaT3akd",
        "outputId": "2fe4518c-826a-49ff-fec2-81e761cc4a52"
      },
      "execution_count": 69,
      "outputs": [
        {
          "output_type": "execute_result",
          "data": {
            "text/plain": [
              "array([[96, 49, 67, 73],\n",
              "       [33, 98, 27, 69],\n",
              "       [66, 57, 49,  3],\n",
              "       [72, 38, 63, 56],\n",
              "       [84, 77, 95, 15],\n",
              "       [73, 51, 42, 61]])"
            ]
          },
          "metadata": {},
          "execution_count": 69
        }
      ]
    },
    {
      "cell_type": "code",
      "source": [
        "np.sort(b,axis=1)"
      ],
      "metadata": {
        "colab": {
          "base_uri": "https://localhost:8080/"
        },
        "id": "jlamXERA3jIg",
        "outputId": "fd1792a5-7ecc-44e4-9ea6-87158cbf5780"
      },
      "execution_count": 70,
      "outputs": [
        {
          "output_type": "execute_result",
          "data": {
            "text/plain": [
              "array([[49, 67, 73, 96],\n",
              "       [27, 33, 69, 98],\n",
              "       [ 3, 49, 57, 66],\n",
              "       [38, 56, 63, 72],\n",
              "       [15, 77, 84, 95],\n",
              "       [42, 51, 61, 73]])"
            ]
          },
          "metadata": {},
          "execution_count": 70
        }
      ]
    },
    {
      "cell_type": "code",
      "source": [
        "np.sort(a)[::-1]"
      ],
      "metadata": {
        "colab": {
          "base_uri": "https://localhost:8080/"
        },
        "id": "tD4LsJ713o6v",
        "outputId": "d1d9401c-f12b-407f-ce5d-cb27d830e0e4"
      },
      "execution_count": 71,
      "outputs": [
        {
          "output_type": "execute_result",
          "data": {
            "text/plain": [
              "array([98, 98, 97, 95, 90, 85, 75, 60, 54, 47, 46, 27, 20, 18, 14])"
            ]
          },
          "metadata": {},
          "execution_count": 71
        }
      ]
    },
    {
      "cell_type": "markdown",
      "source": [],
      "metadata": {
        "id": "TxgAKR3LhJRK"
      }
    },
    {
      "cell_type": "markdown",
      "source": [
        "#**np.append**\n",
        "\n",
        "The numpy.append() appends values along the mentioned axis at the end of the array\n",
        "\n",
        "https://numpy.org/doc/stable/reference/generated/numpy.append.html"
      ],
      "metadata": {
        "id": "7nu4H30EbkIg"
      }
    },
    {
      "cell_type": "code",
      "source": [
        "# code\n",
        "a"
      ],
      "metadata": {
        "colab": {
          "base_uri": "https://localhost:8080/"
        },
        "id": "vox8X8USbpxs",
        "outputId": "82d0e859-9eea-4f65-8a7c-842bdb626981"
      },
      "execution_count": 72,
      "outputs": [
        {
          "output_type": "execute_result",
          "data": {
            "text/plain": [
              "array([95, 18, 98, 97, 54, 98, 85, 14, 75, 90, 20, 47, 60, 27, 46])"
            ]
          },
          "metadata": {},
          "execution_count": 72
        }
      ]
    },
    {
      "cell_type": "code",
      "source": [
        "np.append(a,200)"
      ],
      "metadata": {
        "colab": {
          "base_uri": "https://localhost:8080/"
        },
        "id": "99drlHb8b5Qj",
        "outputId": "4d8abc8d-ff25-460f-a9b2-086ad037adcc"
      },
      "execution_count": 73,
      "outputs": [
        {
          "output_type": "execute_result",
          "data": {
            "text/plain": [
              "array([ 95,  18,  98,  97,  54,  98,  85,  14,  75,  90,  20,  47,  60,\n",
              "        27,  46, 200])"
            ]
          },
          "metadata": {},
          "execution_count": 73
        }
      ]
    },
    {
      "cell_type": "code",
      "source": [
        "b"
      ],
      "metadata": {
        "colab": {
          "base_uri": "https://localhost:8080/"
        },
        "id": "tECzpxy_b_fM",
        "outputId": "df70fd37-88aa-41f6-e03c-4af7ed109a9f"
      },
      "execution_count": 74,
      "outputs": [
        {
          "output_type": "execute_result",
          "data": {
            "text/plain": [
              "array([[96, 49, 67, 73],\n",
              "       [33, 98, 27, 69],\n",
              "       [66, 57, 49,  3],\n",
              "       [72, 38, 63, 56],\n",
              "       [84, 77, 95, 15],\n",
              "       [73, 51, 42, 61]])"
            ]
          },
          "metadata": {},
          "execution_count": 74
        }
      ]
    },
    {
      "cell_type": "code",
      "source": [
        "np.append(b,np.ones((b.shape[0],1)),axis=1)"
      ],
      "metadata": {
        "colab": {
          "base_uri": "https://localhost:8080/"
        },
        "id": "dvHG7fiadBCj",
        "outputId": "ef445cae-e596-499e-d4e0-82f7babcbade"
      },
      "execution_count": 75,
      "outputs": [
        {
          "output_type": "execute_result",
          "data": {
            "text/plain": [
              "array([[96., 49., 67., 73.,  1.],\n",
              "       [33., 98., 27., 69.,  1.],\n",
              "       [66., 57., 49.,  3.,  1.],\n",
              "       [72., 38., 63., 56.,  1.],\n",
              "       [84., 77., 95., 15.,  1.],\n",
              "       [73., 51., 42., 61.,  1.]])"
            ]
          },
          "metadata": {},
          "execution_count": 75
        }
      ]
    },
    {
      "cell_type": "markdown",
      "source": [
        "#**np.concatenate**\n",
        "\n",
        "numpy.concatenate() function concatenate a sequence of arrays along an existing axis.\n",
        "\n",
        "https://numpy.org/doc/stable/reference/generated/numpy.concatenate.html"
      ],
      "metadata": {
        "id": "TTjW-hthdK0T"
      }
    },
    {
      "cell_type": "code",
      "source": [
        "# code\n",
        "c = np.arange(6).reshape(2,3)\n",
        "d = np.arange(6,12).reshape(2,3)\n",
        "\n",
        "print(c)\n",
        "print(d)"
      ],
      "metadata": {
        "colab": {
          "base_uri": "https://localhost:8080/"
        },
        "id": "XRASi1zrdMdh",
        "outputId": "4e5085d2-bc96-4fc0-dccb-519468cf453a"
      },
      "execution_count": 76,
      "outputs": [
        {
          "output_type": "stream",
          "name": "stdout",
          "text": [
            "[[0 1 2]\n",
            " [3 4 5]]\n",
            "[[ 6  7  8]\n",
            " [ 9 10 11]]\n"
          ]
        }
      ]
    },
    {
      "cell_type": "code",
      "source": [
        "np.concatenate((c,d),axis=0)"
      ],
      "metadata": {
        "colab": {
          "base_uri": "https://localhost:8080/"
        },
        "id": "FUaZEtKCf0j8",
        "outputId": "37c40f2b-6a62-4dd0-e743-a4398e6b84b0"
      },
      "execution_count": 77,
      "outputs": [
        {
          "output_type": "execute_result",
          "data": {
            "text/plain": [
              "array([[ 0,  1,  2],\n",
              "       [ 3,  4,  5],\n",
              "       [ 6,  7,  8],\n",
              "       [ 9, 10, 11]])"
            ]
          },
          "metadata": {},
          "execution_count": 77
        }
      ]
    },
    {
      "cell_type": "code",
      "source": [
        "np.concatenate((c,d),axis=1)"
      ],
      "metadata": {
        "colab": {
          "base_uri": "https://localhost:8080/"
        },
        "id": "IFKkflNHf3P7",
        "outputId": "74cd36fd-e627-4d54-eee3-79a2f00d5f3f"
      },
      "execution_count": 78,
      "outputs": [
        {
          "output_type": "execute_result",
          "data": {
            "text/plain": [
              "array([[ 0,  1,  2,  6,  7,  8],\n",
              "       [ 3,  4,  5,  9, 10, 11]])"
            ]
          },
          "metadata": {},
          "execution_count": 78
        }
      ]
    },
    {
      "cell_type": "markdown",
      "source": [
        "# **np.unique**\n",
        "\n",
        "With the help of np.unique() method, we can get the unique values from an array given as parameter in np.unique() method.\n",
        "\n",
        "https://numpy.org/doc/stable/reference/generated/numpy.unique.html/"
      ],
      "metadata": {
        "id": "hlOoj440gDVO"
      }
    },
    {
      "cell_type": "code",
      "source": [
        "# code\n",
        "e = np.array([1,1,2,2,3,3,4,4,5,5,6,6])"
      ],
      "metadata": {
        "id": "bm_MjxCqgCkb"
      },
      "execution_count": 79,
      "outputs": []
    },
    {
      "cell_type": "code",
      "source": [
        "np.unique(e)"
      ],
      "metadata": {
        "colab": {
          "base_uri": "https://localhost:8080/"
        },
        "id": "IK9708xZgkg7",
        "outputId": "100cd17a-3fc6-41f3-90fc-b6e6d17ef8a5"
      },
      "execution_count": 80,
      "outputs": [
        {
          "output_type": "execute_result",
          "data": {
            "text/plain": [
              "array([1, 2, 3, 4, 5, 6])"
            ]
          },
          "metadata": {},
          "execution_count": 80
        }
      ]
    },
    {
      "cell_type": "markdown",
      "source": [
        "#**np.expand_dims**\n",
        "\n",
        "With the help of Numpy.expand_dims() method, we can get the expanded dimensions of an array\n",
        "\n",
        "https://numpy.org/doc/stable/reference/generated/numpy.expand_dims.html"
      ],
      "metadata": {
        "id": "CuTPg61UgyQz"
      }
    },
    {
      "cell_type": "code",
      "source": [
        "a.shape"
      ],
      "metadata": {
        "colab": {
          "base_uri": "https://localhost:8080/"
        },
        "id": "csp7hv1Tgu3_",
        "outputId": "dd2c23ee-c74e-4243-e956-817bad7e8574"
      },
      "execution_count": 81,
      "outputs": [
        {
          "output_type": "execute_result",
          "data": {
            "text/plain": [
              "(15,)"
            ]
          },
          "metadata": {},
          "execution_count": 81
        }
      ]
    },
    {
      "cell_type": "code",
      "source": [
        "np.expand_dims(a,axis=0).shape"
      ],
      "metadata": {
        "colab": {
          "base_uri": "https://localhost:8080/"
        },
        "id": "z4yn0uZihZ38",
        "outputId": "a70fb2a0-6c3e-48df-f089-2749284db00e"
      },
      "execution_count": 82,
      "outputs": [
        {
          "output_type": "execute_result",
          "data": {
            "text/plain": [
              "(1, 15)"
            ]
          },
          "metadata": {},
          "execution_count": 82
        }
      ]
    },
    {
      "cell_type": "code",
      "source": [
        "np.expand_dims(a,axis=1).shape"
      ],
      "metadata": {
        "colab": {
          "base_uri": "https://localhost:8080/"
        },
        "id": "JViv0PAxhovZ",
        "outputId": "4aa8e711-8457-4ba5-f2a3-8217e8c3cb7c"
      },
      "execution_count": 83,
      "outputs": [
        {
          "output_type": "execute_result",
          "data": {
            "text/plain": [
              "(15, 1)"
            ]
          },
          "metadata": {},
          "execution_count": 83
        }
      ]
    },
    {
      "cell_type": "markdown",
      "source": [
        "#**np.where**\n",
        "\n",
        "The numpy.where() function returns the indices of elements in an input array where the given condition is satisfied.\n",
        "\n",
        "https://numpy.org/doc/stable/reference/generated/numpy.where.html"
      ],
      "metadata": {
        "id": "Doh3WdFxiPVH"
      }
    },
    {
      "cell_type": "code",
      "source": [
        "a"
      ],
      "metadata": {
        "colab": {
          "base_uri": "https://localhost:8080/"
        },
        "id": "duhICWy2iPCY",
        "outputId": "e46ce66e-c6f6-4e20-e105-60d54ca91bb5"
      },
      "execution_count": 84,
      "outputs": [
        {
          "output_type": "execute_result",
          "data": {
            "text/plain": [
              "array([95, 18, 98, 97, 54, 98, 85, 14, 75, 90, 20, 47, 60, 27, 46])"
            ]
          },
          "metadata": {},
          "execution_count": 84
        }
      ]
    },
    {
      "cell_type": "code",
      "source": [
        "# find all indices with value greater than 50\n",
        "np.where(a>50)"
      ],
      "metadata": {
        "colab": {
          "base_uri": "https://localhost:8080/"
        },
        "id": "jHgRooCEim9H",
        "outputId": "5152b293-8719-4336-ae8a-a018d168d732"
      },
      "execution_count": 85,
      "outputs": [
        {
          "output_type": "execute_result",
          "data": {
            "text/plain": [
              "(array([ 0,  2,  3,  4,  5,  6,  8,  9, 12]),)"
            ]
          },
          "metadata": {},
          "execution_count": 85
        }
      ]
    },
    {
      "cell_type": "code",
      "source": [
        "#replace all values > 50 with 0\n",
        "np.where(a>50,0,a)"
      ],
      "metadata": {
        "colab": {
          "base_uri": "https://localhost:8080/"
        },
        "id": "hV3XYzShi_62",
        "outputId": "93903f8c-69a6-4cfe-cd07-668f52ed8f04"
      },
      "execution_count": 86,
      "outputs": [
        {
          "output_type": "execute_result",
          "data": {
            "text/plain": [
              "array([ 0, 18,  0,  0,  0,  0,  0, 14,  0,  0, 20, 47,  0, 27, 46])"
            ]
          },
          "metadata": {},
          "execution_count": 86
        }
      ]
    },
    {
      "cell_type": "code",
      "source": [
        "# replace all even values with 0\n",
        "np.where(a%2==0,0,a)"
      ],
      "metadata": {
        "colab": {
          "base_uri": "https://localhost:8080/"
        },
        "id": "c3UPFk8Fjf8v",
        "outputId": "56d6021a-545f-476e-9e0e-f9170aeec2e4"
      },
      "execution_count": 87,
      "outputs": [
        {
          "output_type": "execute_result",
          "data": {
            "text/plain": [
              "array([95,  0,  0, 97,  0,  0, 85,  0, 75,  0,  0, 47,  0, 27,  0])"
            ]
          },
          "metadata": {},
          "execution_count": 87
        }
      ]
    },
    {
      "cell_type": "markdown",
      "source": [
        "#**np.argmax**\n",
        "\n",
        "The numpy.argmax() function returns indices of the max element of the array in a particular axis.\n",
        "\n",
        "https://numpy.org/doc/stable/reference/generated/numpy.argmax.html"
      ],
      "metadata": {
        "id": "BD4VJ-gmjoQF"
      }
    },
    {
      "cell_type": "code",
      "source": [
        "# code\n",
        "a\n"
      ],
      "metadata": {
        "colab": {
          "base_uri": "https://localhost:8080/"
        },
        "id": "3bd2xmKvjs7N",
        "outputId": "011d7851-8911-4448-ee9a-c78f1c04ac39"
      },
      "execution_count": 88,
      "outputs": [
        {
          "output_type": "execute_result",
          "data": {
            "text/plain": [
              "array([95, 18, 98, 97, 54, 98, 85, 14, 75, 90, 20, 47, 60, 27, 46])"
            ]
          },
          "metadata": {},
          "execution_count": 88
        }
      ]
    },
    {
      "cell_type": "code",
      "source": [
        "np.argmax(a)"
      ],
      "metadata": {
        "colab": {
          "base_uri": "https://localhost:8080/"
        },
        "id": "ZswsbOuVj4Nn",
        "outputId": "b2021ff3-fd67-4058-d453-8636fa2ca663"
      },
      "execution_count": 89,
      "outputs": [
        {
          "output_type": "execute_result",
          "data": {
            "text/plain": [
              "np.int64(2)"
            ]
          },
          "metadata": {},
          "execution_count": 89
        }
      ]
    },
    {
      "cell_type": "code",
      "source": [
        "b"
      ],
      "metadata": {
        "colab": {
          "base_uri": "https://localhost:8080/"
        },
        "id": "KD517OZQkNZt",
        "outputId": "f1bd0826-9330-4471-cee9-7edfc64f3728"
      },
      "execution_count": 90,
      "outputs": [
        {
          "output_type": "execute_result",
          "data": {
            "text/plain": [
              "array([[96, 49, 67, 73],\n",
              "       [33, 98, 27, 69],\n",
              "       [66, 57, 49,  3],\n",
              "       [72, 38, 63, 56],\n",
              "       [84, 77, 95, 15],\n",
              "       [73, 51, 42, 61]])"
            ]
          },
          "metadata": {},
          "execution_count": 90
        }
      ]
    },
    {
      "cell_type": "code",
      "source": [
        "np.argmax(b,axis=0)"
      ],
      "metadata": {
        "colab": {
          "base_uri": "https://localhost:8080/"
        },
        "id": "W9Be_lGYkJ07",
        "outputId": "7b5eea85-4e5f-454a-e5bd-5f55bf1eb300"
      },
      "execution_count": 91,
      "outputs": [
        {
          "output_type": "execute_result",
          "data": {
            "text/plain": [
              "array([0, 1, 4, 0])"
            ]
          },
          "metadata": {},
          "execution_count": 91
        }
      ]
    },
    {
      "cell_type": "code",
      "source": [
        "np.argmax(b,axis=1)"
      ],
      "metadata": {
        "colab": {
          "base_uri": "https://localhost:8080/"
        },
        "id": "LXFeU0vek2KB",
        "outputId": "efcd2e81-4ad7-476d-e92b-ab91527c697a"
      },
      "execution_count": 92,
      "outputs": [
        {
          "output_type": "execute_result",
          "data": {
            "text/plain": [
              "array([0, 1, 0, 0, 2, 0])"
            ]
          },
          "metadata": {},
          "execution_count": 92
        }
      ]
    },
    {
      "cell_type": "code",
      "source": [
        "# np.argin\n",
        "np.argmin(a)"
      ],
      "metadata": {
        "colab": {
          "base_uri": "https://localhost:8080/"
        },
        "id": "Ice8sWn3lUPr",
        "outputId": "6573c19f-233d-4ae7-d656-a8e7b284fdc2"
      },
      "execution_count": 93,
      "outputs": [
        {
          "output_type": "execute_result",
          "data": {
            "text/plain": [
              "np.int64(7)"
            ]
          },
          "metadata": {},
          "execution_count": 93
        }
      ]
    },
    {
      "cell_type": "markdown",
      "source": [
        "#**np.cumsum**\n",
        "\n",
        "numpy.cumsum() function is used when we want to compute the cumulative sum of array elements over a given axis.\n",
        "\n",
        "https://numpy.org/doc/stable/reference/generated/numpy.cumsum.html"
      ],
      "metadata": {
        "id": "LuwBMK0tlnjS"
      }
    },
    {
      "cell_type": "code",
      "source": [
        "a"
      ],
      "metadata": {
        "colab": {
          "base_uri": "https://localhost:8080/"
        },
        "id": "APhS_1OOlmmS",
        "outputId": "6502e05a-e714-40c4-90fe-185b1c9c6d50"
      },
      "execution_count": 94,
      "outputs": [
        {
          "output_type": "execute_result",
          "data": {
            "text/plain": [
              "array([95, 18, 98, 97, 54, 98, 85, 14, 75, 90, 20, 47, 60, 27, 46])"
            ]
          },
          "metadata": {},
          "execution_count": 94
        }
      ]
    },
    {
      "cell_type": "code",
      "source": [
        "np.cumsum(a)"
      ],
      "metadata": {
        "colab": {
          "base_uri": "https://localhost:8080/"
        },
        "id": "ZvlSPwPjmeoZ",
        "outputId": "046f24ab-50ac-48d5-f2b2-c4022368f05b"
      },
      "execution_count": 95,
      "outputs": [
        {
          "output_type": "execute_result",
          "data": {
            "text/plain": [
              "array([ 95, 113, 211, 308, 362, 460, 545, 559, 634, 724, 744, 791, 851,\n",
              "       878, 924])"
            ]
          },
          "metadata": {},
          "execution_count": 95
        }
      ]
    },
    {
      "cell_type": "code",
      "source": [
        "b"
      ],
      "metadata": {
        "colab": {
          "base_uri": "https://localhost:8080/"
        },
        "id": "dOxxO9xOmor-",
        "outputId": "fed31aab-d251-482f-8df1-69850c30b00a"
      },
      "execution_count": 96,
      "outputs": [
        {
          "output_type": "execute_result",
          "data": {
            "text/plain": [
              "array([[96, 49, 67, 73],\n",
              "       [33, 98, 27, 69],\n",
              "       [66, 57, 49,  3],\n",
              "       [72, 38, 63, 56],\n",
              "       [84, 77, 95, 15],\n",
              "       [73, 51, 42, 61]])"
            ]
          },
          "metadata": {},
          "execution_count": 96
        }
      ]
    },
    {
      "cell_type": "code",
      "source": [
        "np.cumsum(b,axis=1)"
      ],
      "metadata": {
        "colab": {
          "base_uri": "https://localhost:8080/"
        },
        "id": "HN9E5OBdmqV4",
        "outputId": "2599d12f-9b62-4e26-af4a-048755dd7e2a"
      },
      "execution_count": 97,
      "outputs": [
        {
          "output_type": "execute_result",
          "data": {
            "text/plain": [
              "array([[ 96, 145, 212, 285],\n",
              "       [ 33, 131, 158, 227],\n",
              "       [ 66, 123, 172, 175],\n",
              "       [ 72, 110, 173, 229],\n",
              "       [ 84, 161, 256, 271],\n",
              "       [ 73, 124, 166, 227]])"
            ]
          },
          "metadata": {},
          "execution_count": 97
        }
      ]
    },
    {
      "cell_type": "code",
      "source": [
        "a"
      ],
      "metadata": {
        "colab": {
          "base_uri": "https://localhost:8080/"
        },
        "id": "fA6VJt7InHqI",
        "outputId": "f6bc909f-0c49-4bfd-e7ed-732e54baf8f4"
      },
      "execution_count": 98,
      "outputs": [
        {
          "output_type": "execute_result",
          "data": {
            "text/plain": [
              "array([95, 18, 98, 97, 54, 98, 85, 14, 75, 90, 20, 47, 60, 27, 46])"
            ]
          },
          "metadata": {},
          "execution_count": 98
        }
      ]
    },
    {
      "cell_type": "code",
      "source": [
        "np.cumprod(a)"
      ],
      "metadata": {
        "colab": {
          "base_uri": "https://localhost:8080/"
        },
        "id": "wDIGIrMVnLaf",
        "outputId": "0ddb23b3-58b3-45a6-e22f-c5d62a81961e"
      },
      "execution_count": 99,
      "outputs": [
        {
          "output_type": "execute_result",
          "data": {
            "text/plain": [
              "array([                  95,                 1710,               167580,\n",
              "                   16255260,            877784040,          86022835920,\n",
              "              7311941053200,      102367174744800,     7677538105860000,\n",
              "         690978429527400000, -4627175483161551616,  3883681175921693440,\n",
              "       -6786802402922564608,  1223775858186271744,   953457255439845376])"
            ]
          },
          "metadata": {},
          "execution_count": 99
        }
      ]
    },
    {
      "cell_type": "markdown",
      "source": [
        "#**np.percentile**\n",
        "\n",
        "numpy.percentile()function used to compute the nth percentile of the given data (array elements) along the specified axis.\n",
        "\n",
        "https://numpy.org/doc/stable/reference/generated/numpy.percentile.html"
      ],
      "metadata": {
        "id": "Fu1Ey64endL3"
      }
    },
    {
      "cell_type": "code",
      "source": [
        "a"
      ],
      "metadata": {
        "colab": {
          "base_uri": "https://localhost:8080/"
        },
        "id": "zXCeDcG0na-P",
        "outputId": "621e4801-e68e-493d-8659-9b6386cdc5b0"
      },
      "execution_count": 100,
      "outputs": [
        {
          "output_type": "execute_result",
          "data": {
            "text/plain": [
              "array([95, 18, 98, 97, 54, 98, 85, 14, 75, 90, 20, 47, 60, 27, 46])"
            ]
          },
          "metadata": {},
          "execution_count": 100
        }
      ]
    },
    {
      "cell_type": "code",
      "source": [
        "np.percentile(a,100)"
      ],
      "metadata": {
        "colab": {
          "base_uri": "https://localhost:8080/"
        },
        "id": "aMX2veu1n3Tv",
        "outputId": "5e7e68b9-ecad-4e91-93a2-4979a704566e"
      },
      "execution_count": 101,
      "outputs": [
        {
          "output_type": "execute_result",
          "data": {
            "text/plain": [
              "np.float64(98.0)"
            ]
          },
          "metadata": {},
          "execution_count": 101
        }
      ]
    },
    {
      "cell_type": "code",
      "source": [
        "np.percentile(a,75)"
      ],
      "metadata": {
        "colab": {
          "base_uri": "https://localhost:8080/"
        },
        "id": "Z_GxlF9Ko9zd",
        "outputId": "aeaad529-fb89-474c-f18a-036e29aaeb44"
      },
      "execution_count": 102,
      "outputs": [
        {
          "output_type": "execute_result",
          "data": {
            "text/plain": [
              "np.float64(92.5)"
            ]
          },
          "metadata": {},
          "execution_count": 102
        }
      ]
    },
    {
      "cell_type": "code",
      "source": [
        "np.percentile(a,25)"
      ],
      "metadata": {
        "colab": {
          "base_uri": "https://localhost:8080/"
        },
        "id": "as3rf02qpAx8",
        "outputId": "7493b6cd-9aee-4910-ce8e-a0f16174e2dc"
      },
      "execution_count": 103,
      "outputs": [
        {
          "output_type": "execute_result",
          "data": {
            "text/plain": [
              "np.float64(36.5)"
            ]
          },
          "metadata": {},
          "execution_count": 103
        }
      ]
    },
    {
      "cell_type": "code",
      "source": [
        "np.median(a)"
      ],
      "metadata": {
        "colab": {
          "base_uri": "https://localhost:8080/"
        },
        "id": "CXLv1ubboFYA",
        "outputId": "b71ccca8-f9d2-4112-d158-6c43e5389770"
      },
      "execution_count": 104,
      "outputs": [
        {
          "output_type": "execute_result",
          "data": {
            "text/plain": [
              "np.float64(60.0)"
            ]
          },
          "metadata": {},
          "execution_count": 104
        }
      ]
    },
    {
      "cell_type": "markdown",
      "source": [
        "### np.histogram\n",
        "\n",
        "Numpy has a built-in numpy.histogram() function which represents the frequency of data distribution in the graphical form.\n",
        "\n",
        "https://numpy.org/doc/stable/reference/generated/numpy.histogram.html"
      ],
      "metadata": {
        "id": "4UbFIQYvn87P"
      }
    },
    {
      "cell_type": "code",
      "source": [
        "# code\n",
        "a"
      ],
      "metadata": {
        "colab": {
          "base_uri": "https://localhost:8080/"
        },
        "id": "tZbKpK1zoPbK",
        "outputId": "38f734f6-ce55-472a-bbd7-a62551976065"
      },
      "execution_count": 105,
      "outputs": [
        {
          "output_type": "execute_result",
          "data": {
            "text/plain": [
              "array([95, 18, 98, 97, 54, 98, 85, 14, 75, 90, 20, 47, 60, 27, 46])"
            ]
          },
          "metadata": {},
          "execution_count": 105
        }
      ]
    },
    {
      "cell_type": "code",
      "source": [
        "np.histogram(a,bins=[0,10,20,30,40,50,60,70,80,90,100])"
      ],
      "metadata": {
        "colab": {
          "base_uri": "https://localhost:8080/"
        },
        "id": "a-q4c2TJpUm9",
        "outputId": "ebace465-1080-4184-f23e-ab699a002168"
      },
      "execution_count": 106,
      "outputs": [
        {
          "output_type": "execute_result",
          "data": {
            "text/plain": [
              "(array([0, 2, 2, 0, 2, 1, 1, 1, 1, 5]),\n",
              " array([  0,  10,  20,  30,  40,  50,  60,  70,  80,  90, 100]))"
            ]
          },
          "metadata": {},
          "execution_count": 106
        }
      ]
    },
    {
      "cell_type": "markdown",
      "source": [
        "#**np.corrcoef**\n",
        "\n",
        "Return Pearson product-moment correlation coefficients.\n",
        "\n",
        "https://numpy.org/doc/stable/reference/generated/numpy.corrcoef.html"
      ],
      "metadata": {
        "id": "JoY6cj4dhHR1"
      }
    },
    {
      "cell_type": "code",
      "source": [
        "# code\n",
        "salary = np.array([20000,40000,25000,35000,60000])\n",
        "experience = np.array([1,3,2,4,2])\n",
        "\n",
        "np.corrcoef(salary,experience)"
      ],
      "metadata": {
        "id": "YJXDYFIOh3IO",
        "outputId": "d6441a8a-7fd4-4746-b286-868c5638f4da",
        "colab": {
          "base_uri": "https://localhost:8080/"
        }
      },
      "execution_count": 107,
      "outputs": [
        {
          "output_type": "execute_result",
          "data": {
            "text/plain": [
              "array([[1.        , 0.25344572],\n",
              "       [0.25344572, 1.        ]])"
            ]
          },
          "metadata": {},
          "execution_count": 107
        }
      ]
    },
    {
      "cell_type": "markdown",
      "source": [
        "#**np.isin**\n",
        "\n",
        "With the help of numpy.isin() method, we can see that one array having values are checked in a different numpy array having different elements with different sizes.\n",
        "\n",
        "https://numpy.org/doc/stable/reference/generated/numpy.isin.html"
      ],
      "metadata": {
        "id": "kY8fmt2Viaok"
      }
    },
    {
      "cell_type": "code",
      "source": [
        "# code\n",
        "a"
      ],
      "metadata": {
        "id": "7gmprTdBiaW-",
        "outputId": "63d7559b-3c88-4718-daa1-6bb71a00d43d",
        "colab": {
          "base_uri": "https://localhost:8080/"
        }
      },
      "execution_count": 108,
      "outputs": [
        {
          "output_type": "execute_result",
          "data": {
            "text/plain": [
              "array([95, 18, 98, 97, 54, 98, 85, 14, 75, 90, 20, 47, 60, 27, 46])"
            ]
          },
          "metadata": {},
          "execution_count": 108
        }
      ]
    },
    {
      "cell_type": "code",
      "source": [
        "items = [10,20,30,40,50,60,70,80,90,100]\n",
        "\n",
        "\n",
        "np.isin(a,items)"
      ],
      "metadata": {
        "id": "JU5IKULPi5Xi",
        "outputId": "c84528f3-ef58-46b7-8b97-40fff31da00a",
        "colab": {
          "base_uri": "https://localhost:8080/"
        }
      },
      "execution_count": 109,
      "outputs": [
        {
          "output_type": "execute_result",
          "data": {
            "text/plain": [
              "array([False, False, False, False, False, False, False, False, False,\n",
              "        True,  True, False,  True, False, False])"
            ]
          },
          "metadata": {},
          "execution_count": 109
        }
      ]
    },
    {
      "cell_type": "code",
      "source": [
        "a[np.isin(a,items)]"
      ],
      "metadata": {
        "id": "RkYhsiEUjSMc",
        "outputId": "2f9702fb-6589-4be0-8aab-182c22fc39af",
        "colab": {
          "base_uri": "https://localhost:8080/"
        }
      },
      "execution_count": 110,
      "outputs": [
        {
          "output_type": "execute_result",
          "data": {
            "text/plain": [
              "array([90, 20, 60])"
            ]
          },
          "metadata": {},
          "execution_count": 110
        }
      ]
    },
    {
      "cell_type": "markdown",
      "source": [
        "#**np.flip**\n",
        "\n",
        "The numpy.flip() function reverses the order of array elements along the specified axis, preserving the shape of the array.\n",
        "\n",
        "https://numpy.org/doc/stable/reference/generated/numpy.flip.html"
      ],
      "metadata": {
        "id": "YGh5UojKik_a"
      }
    },
    {
      "cell_type": "code",
      "source": [
        "# code\n",
        "a"
      ],
      "metadata": {
        "id": "Ob2Edre3jfQB",
        "outputId": "cba4081a-3c0f-4703-e865-b0f7e62321d3",
        "colab": {
          "base_uri": "https://localhost:8080/"
        }
      },
      "execution_count": 111,
      "outputs": [
        {
          "output_type": "execute_result",
          "data": {
            "text/plain": [
              "array([95, 18, 98, 97, 54, 98, 85, 14, 75, 90, 20, 47, 60, 27, 46])"
            ]
          },
          "metadata": {},
          "execution_count": 111
        }
      ]
    },
    {
      "cell_type": "code",
      "source": [
        "np.flip(a)"
      ],
      "metadata": {
        "id": "VvNQheo_joME",
        "outputId": "50b6816f-e315-4879-819c-47ccc7079ccf",
        "colab": {
          "base_uri": "https://localhost:8080/"
        }
      },
      "execution_count": 112,
      "outputs": [
        {
          "output_type": "execute_result",
          "data": {
            "text/plain": [
              "array([46, 27, 60, 47, 20, 90, 75, 14, 85, 98, 54, 97, 98, 18, 95])"
            ]
          },
          "metadata": {},
          "execution_count": 112
        }
      ]
    },
    {
      "cell_type": "code",
      "source": [
        "b"
      ],
      "metadata": {
        "id": "4cpZ6XmPjx7M",
        "outputId": "d01cb565-488d-41c2-b0ad-65c2be8a6023",
        "colab": {
          "base_uri": "https://localhost:8080/"
        }
      },
      "execution_count": 113,
      "outputs": [
        {
          "output_type": "execute_result",
          "data": {
            "text/plain": [
              "array([[96, 49, 67, 73],\n",
              "       [33, 98, 27, 69],\n",
              "       [66, 57, 49,  3],\n",
              "       [72, 38, 63, 56],\n",
              "       [84, 77, 95, 15],\n",
              "       [73, 51, 42, 61]])"
            ]
          },
          "metadata": {},
          "execution_count": 113
        }
      ]
    },
    {
      "cell_type": "code",
      "source": [
        "np.flip(b,axis=0)"
      ],
      "metadata": {
        "id": "rqjIqAmajtc7",
        "outputId": "187446cb-4221-48de-cde8-a051081f1aa3",
        "colab": {
          "base_uri": "https://localhost:8080/"
        }
      },
      "execution_count": 114,
      "outputs": [
        {
          "output_type": "execute_result",
          "data": {
            "text/plain": [
              "array([[73, 51, 42, 61],\n",
              "       [84, 77, 95, 15],\n",
              "       [72, 38, 63, 56],\n",
              "       [66, 57, 49,  3],\n",
              "       [33, 98, 27, 69],\n",
              "       [96, 49, 67, 73]])"
            ]
          },
          "metadata": {},
          "execution_count": 114
        }
      ]
    },
    {
      "cell_type": "markdown",
      "source": [
        "#**np.put**\n",
        "\n",
        "The numpy.put() function replaces specific elements of an array with given values of p_array. Array indexed works on flattened array.\n",
        "\n",
        "https://numpy.org/doc/stable/reference/generated/numpy.put.html"
      ],
      "metadata": {
        "id": "F56F6P-xite4"
      }
    },
    {
      "cell_type": "code",
      "source": [
        "# code\n",
        "a"
      ],
      "metadata": {
        "id": "itD2UDBRiydB",
        "outputId": "43d42326-be16-4ce9-9526-43da141f33dc",
        "colab": {
          "base_uri": "https://localhost:8080/"
        }
      },
      "execution_count": 115,
      "outputs": [
        {
          "output_type": "execute_result",
          "data": {
            "text/plain": [
              "array([95, 18, 98, 97, 54, 98, 85, 14, 75, 90, 20, 47, 60, 27, 46])"
            ]
          },
          "metadata": {},
          "execution_count": 115
        }
      ]
    },
    {
      "cell_type": "code",
      "source": [
        "# code\n",
        "np.put(a,[0,1],[110,530])"
      ],
      "metadata": {
        "id": "Q2A6isTAkg1o"
      },
      "execution_count": 116,
      "outputs": []
    },
    {
      "cell_type": "markdown",
      "source": [
        "#**np.delete**\n",
        "\n",
        "The numpy.delete() function returns a new array with the deletion of sub-arrays along with the mentioned axis.\n",
        "\n",
        "https://numpy.org/doc/stable/reference/generated/numpy.delete.html"
      ],
      "metadata": {
        "id": "jf4nGkElkq57"
      }
    },
    {
      "cell_type": "code",
      "source": [
        "# code\n",
        "a"
      ],
      "metadata": {
        "id": "_0tX5fK9kyeI",
        "outputId": "2d56a90a-6c9f-4c7b-dad0-160a438bd049",
        "colab": {
          "base_uri": "https://localhost:8080/"
        }
      },
      "execution_count": 117,
      "outputs": [
        {
          "output_type": "execute_result",
          "data": {
            "text/plain": [
              "array([110, 530,  98,  97,  54,  98,  85,  14,  75,  90,  20,  47,  60,\n",
              "        27,  46])"
            ]
          },
          "metadata": {},
          "execution_count": 117
        }
      ]
    },
    {
      "cell_type": "code",
      "source": [
        "# code\n",
        "# np.delete(a,[0,1,2])\n",
        "np.delete(a,0)"
      ],
      "metadata": {
        "id": "uOU1ICRXk0uN",
        "outputId": "995a6d51-76aa-4067-8ef7-9c99cd3b2df2",
        "colab": {
          "base_uri": "https://localhost:8080/"
        }
      },
      "execution_count": 118,
      "outputs": [
        {
          "output_type": "execute_result",
          "data": {
            "text/plain": [
              "array([530,  98,  97,  54,  98,  85,  14,  75,  90,  20,  47,  60,  27,\n",
              "        46])"
            ]
          },
          "metadata": {},
          "execution_count": 118
        }
      ]
    },
    {
      "cell_type": "markdown",
      "source": [
        "#**Set functions**\n",
        "\n",
        "- np.union1d\n",
        "- np.intersect1d\n",
        "- np.setdiff1d\n",
        "- np.setxor1d\n",
        "- np.in1d"
      ],
      "metadata": {
        "id": "gvhuboY7lSPa"
      }
    },
    {
      "cell_type": "code",
      "source": [
        "# code\n",
        "m = np.array([1,2,3,4,5])\n",
        "n = np.array([3,4,5,6,7])\n",
        "\n",
        "np.union1d(m,n)"
      ],
      "metadata": {
        "id": "aWyFqUcAlgWw",
        "outputId": "bdd0eae7-50b9-439f-c651-692c4a49c00d",
        "colab": {
          "base_uri": "https://localhost:8080/"
        }
      },
      "execution_count": 119,
      "outputs": [
        {
          "output_type": "execute_result",
          "data": {
            "text/plain": [
              "array([1, 2, 3, 4, 5, 6, 7])"
            ]
          },
          "metadata": {},
          "execution_count": 119
        }
      ]
    },
    {
      "cell_type": "code",
      "source": [
        "# code\n",
        "np.intersect1d(m,n)"
      ],
      "metadata": {
        "id": "952VKjiumCmI",
        "outputId": "e7f7f7cf-845e-45fd-a503-8a7c98792cb7",
        "colab": {
          "base_uri": "https://localhost:8080/"
        }
      },
      "execution_count": 120,
      "outputs": [
        {
          "output_type": "execute_result",
          "data": {
            "text/plain": [
              "array([3, 4, 5])"
            ]
          },
          "metadata": {},
          "execution_count": 120
        }
      ]
    },
    {
      "cell_type": "code",
      "source": [
        "# code\n",
        "np.setdiff1d(m,n)"
      ],
      "metadata": {
        "id": "lDjX7zPwmQU2",
        "outputId": "835ad2cf-8a70-42fe-9544-0a2c043badb1",
        "colab": {
          "base_uri": "https://localhost:8080/"
        }
      },
      "execution_count": 121,
      "outputs": [
        {
          "output_type": "execute_result",
          "data": {
            "text/plain": [
              "array([1, 2])"
            ]
          },
          "metadata": {},
          "execution_count": 121
        }
      ]
    },
    {
      "cell_type": "code",
      "source": [
        "# code\n",
        "np.setxor1d(m,n)"
      ],
      "metadata": {
        "id": "1XPcJd2QmfjH",
        "outputId": "24221c7e-d99f-42fa-db84-99ed4b4dba4f",
        "colab": {
          "base_uri": "https://localhost:8080/"
        }
      },
      "execution_count": 122,
      "outputs": [
        {
          "output_type": "execute_result",
          "data": {
            "text/plain": [
              "array([1, 2, 6, 7])"
            ]
          },
          "metadata": {},
          "execution_count": 122
        }
      ]
    },
    {
      "cell_type": "code",
      "source": [
        "# code\n",
        "m[np.in1d(m,9)]"
      ],
      "metadata": {
        "id": "wgBUW2X3nUcy",
        "outputId": "4368ddfe-2535-4d1b-b882-261007ecd3ad",
        "colab": {
          "base_uri": "https://localhost:8080/"
        }
      },
      "execution_count": 123,
      "outputs": [
        {
          "output_type": "stream",
          "name": "stderr",
          "text": [
            "<ipython-input-123-f892b6e59cb5>:2: DeprecationWarning: `in1d` is deprecated. Use `np.isin` instead.\n",
            "  m[np.in1d(m,9)]\n"
          ]
        },
        {
          "output_type": "execute_result",
          "data": {
            "text/plain": [
              "array([], dtype=int64)"
            ]
          },
          "metadata": {},
          "execution_count": 123
        }
      ]
    },
    {
      "cell_type": "markdown",
      "source": [
        "#**np.clip**\n",
        "\n",
        "numpy.clip() function is used to Clip (limit) the values in an array.\n",
        "\n",
        "https://numpy.org/doc/stable/reference/generated/numpy.clip.html"
      ],
      "metadata": {
        "id": "pUMB2HcDlcTx"
      }
    },
    {
      "cell_type": "code",
      "source": [
        "# code\n",
        "a"
      ],
      "metadata": {
        "id": "PTrq7LJwlCBq",
        "outputId": "cbdb3c2f-91ee-45d6-e628-1408547c8d73",
        "colab": {
          "base_uri": "https://localhost:8080/"
        }
      },
      "execution_count": 124,
      "outputs": [
        {
          "output_type": "execute_result",
          "data": {
            "text/plain": [
              "array([110, 530,  98,  97,  54,  98,  85,  14,  75,  90,  20,  47,  60,\n",
              "        27,  46])"
            ]
          },
          "metadata": {},
          "execution_count": 124
        }
      ]
    },
    {
      "cell_type": "code",
      "source": [
        "# code\n",
        "np.clip(a,a_min=25,a_max=75)"
      ],
      "metadata": {
        "id": "PIkjf_zyn8em",
        "outputId": "35a17e02-21d1-4aa3-c1af-13194ef0c2f5",
        "colab": {
          "base_uri": "https://localhost:8080/"
        }
      },
      "execution_count": 125,
      "outputs": [
        {
          "output_type": "execute_result",
          "data": {
            "text/plain": [
              "array([75, 75, 75, 75, 54, 75, 75, 25, 75, 75, 25, 47, 60, 27, 46])"
            ]
          },
          "metadata": {},
          "execution_count": 125
        }
      ]
    },
    {
      "cell_type": "code",
      "source": [
        "# 17. np.swapaxes"
      ],
      "metadata": {
        "id": "K9pHvhkPoznZ"
      },
      "execution_count": 126,
      "outputs": []
    },
    {
      "cell_type": "code",
      "source": [
        "# 18. np.uniform"
      ],
      "metadata": {
        "id": "6WpWW54Bo4FW"
      },
      "execution_count": 127,
      "outputs": []
    },
    {
      "cell_type": "code",
      "source": [
        "# 19. np.count_nonzero"
      ],
      "metadata": {
        "id": "Te_CSgPXo7Sz"
      },
      "execution_count": 128,
      "outputs": []
    },
    {
      "cell_type": "code",
      "source": [
        "# 21. np.tile\n",
        "# https://www.kaggle.com/code/abhayparashar31/best-numpy-functions-for-data-science-50?scriptVersionId=98816580"
      ],
      "metadata": {
        "id": "-4UhrbTFo_q3"
      },
      "execution_count": 129,
      "outputs": []
    },
    {
      "cell_type": "code",
      "source": [
        "# 22. np.repeat\n",
        "# https://towardsdatascience.com/10-numpy-functions-you-should-know-1dc4863764c5"
      ],
      "metadata": {
        "id": "XFZji7NNpE-I"
      },
      "execution_count": 130,
      "outputs": []
    },
    {
      "cell_type": "code",
      "source": [
        "# 25. np.allclose and equals"
      ],
      "metadata": {
        "id": "yi7Vp_UmpILJ"
      },
      "execution_count": 131,
      "outputs": []
    }
  ]
}